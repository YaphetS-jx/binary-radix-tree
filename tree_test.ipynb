{
 "cells": [
  {
   "cell_type": "code",
   "execution_count": 4,
   "metadata": {},
   "outputs": [],
   "source": [
    "from binary_radix_tree import *\n",
    "from morton_code import *\n",
    "from check import *\n",
    "from morton_code import *\n",
    "from util import *\n",
    "import random"
   ]
  },
  {
   "cell_type": "code",
   "execution_count": 8,
   "metadata": {},
   "outputs": [
    {
     "name": "stdout",
     "output_type": "stream",
     "text": [
      "Generated 2860 unique 3D grid points:\n",
      "Query window: [406, 1860]\n",
      "number of points in query window: 19\n",
      "Results match!\n"
     ]
    }
   ],
   "source": [
    "import random\n",
    "\n",
    "# Generate random points\n",
    "num_bits = 4\n",
    "max_coord = (1 << num_bits) - 1\n",
    "\n",
    "num_points = 5000  # Adjust this number to control how many points to generate before removing duplicates\n",
    "# random.seed(42)  # Set fixed random seed\n",
    "points = [(random.randint(0,max_coord), random.randint(0,max_coord), random.randint(0,max_coord)) for _ in range(num_points)]\n",
    "\n",
    "# Convert to numpy array and get unique points\n",
    "unique_points = list(set(tuple(point) for point in points))\n",
    "print(f\"Generated {len(unique_points)} unique 3D grid points:\")\n",
    "# print(unique_points)\n",
    "\n",
    "morton_codes = [interleave_bits(x, y, z, num_bits) for x, y, z in unique_points]\n",
    "# print(\"before sort\")\n",
    "# print(morton_codes)\n",
    "# print(unique_points)\n",
    "\n",
    "# Sort morton_codes and unique_points together using zip\n",
    "sorted_pairs = sorted(zip(morton_codes, unique_points))\n",
    "morton_codes, unique_points = zip(*sorted_pairs)\n",
    "morton_codes = list(morton_codes)\n",
    "unique_points = list(unique_points)\n",
    "\n",
    "# print(\"after sort\")\n",
    "# print(morton_codes)\n",
    "# print(unique_points)\n",
    "brt_random = BinaryRadixTree(morton_codes, num_bits * 3)\n",
    "\n",
    "# Generate random query window within valid range\n",
    "x1, x2 = sorted([random.randint(0, max_coord), random.randint(0, max_coord)])\n",
    "y1, y2 = sorted([random.randint(0, max_coord), random.randint(0, max_coord)])\n",
    "z1, z2 = sorted([random.randint(0, max_coord), random.randint(0, max_coord)])\n",
    "query_min = interleave_bits(x1, y1, z1, num_bits)\n",
    "query_max = interleave_bits(x2, y2, z2, num_bits)\n",
    "print(f\"Query window: [{query_min}, {query_max}]\")\n",
    "\n",
    "check = simple_check(query_min, query_max)\n",
    "result = brt_random.traverse_tree(check)\n",
    "result = sorted(result)\n",
    "print(f\"number of points in query window: {len(result)}\")\n",
    "# print(f\"Indices: {[int(x) for x in result]}\")\n",
    "# print(f\"Morton codes: {[morton_codes[i] for i in result]}\")\n",
    "\n",
    "check = simple_check(query_min, query_max)\n",
    "\n",
    "bench_result = []\n",
    "for i in range(len(unique_points)):\n",
    "    if (check.check_inside(morton_codes[i])):\n",
    "        bench_result.append(i)\n",
    "\n",
    "# print(\"\\nComparing results:\")\n",
    "# print(f\"Brute force result: {bench_result}\")\n",
    "# print(f\"Tree traversal result: {result}\")\n",
    "\n",
    "if sorted(bench_result) == sorted(result):\n",
    "    print(\"Results match!\")\n",
    "else:\n",
    "    print(\"Results don't match!\")\n",
    "    print(\"Missing points:\", set(bench_result) - set(result))\n",
    "    print(\"Extra points:\", set(result) - set(bench_result))\n"
   ]
  }
 ],
 "metadata": {
  "kernelspec": {
   "display_name": "base",
   "language": "python",
   "name": "python3"
  },
  "language_info": {
   "codemirror_mode": {
    "name": "ipython",
    "version": 3
   },
   "file_extension": ".py",
   "mimetype": "text/x-python",
   "name": "python",
   "nbconvert_exporter": "python",
   "pygments_lexer": "ipython3",
   "version": "3.12.9"
  }
 },
 "nbformat": 4,
 "nbformat_minor": 2
}

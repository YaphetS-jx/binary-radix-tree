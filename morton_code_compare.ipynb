{
 "cells": [
  {
   "cell_type": "markdown",
   "metadata": {},
   "source": [
    "compare 2 mortoncode for each dimension"
   ]
  },
  {
   "cell_type": "code",
   "execution_count": 5,
   "metadata": {},
   "outputs": [],
   "source": [
    "def interleave_bits(x: int, y: int, z: int, num_bits_per_dim: int) -> int:\n",
    "    \"\"\"\n",
    "    Interleave bits from x, y, and z coordinates into a single Morton code.\n",
    "    \n",
    "    Args:\n",
    "        x, y, z: Integer coordinates\n",
    "        num_bits: Number of bits to interleave from each coordinate\n",
    "    \n",
    "    Returns:\n",
    "        Interleaved Morton code\n",
    "    \"\"\"    \n",
    "    result = 0\n",
    "    for i in range(num_bits_per_dim):\n",
    "        result |= ((x & (1 << i)) << (2 * i)) | \\\n",
    "                 ((y & (1 << i)) << (2 * i + 1)) | \\\n",
    "                 ((z & (1 << i)) << (2 * i + 2))\n",
    "    return result\n",
    "\n",
    "def compare_morton_x(morton1: int, morton2: int) -> int:\n",
    "    \"\"\"\n",
    "    Compare x-coordinates of two Morton codes.\n",
    "    Returns: -1 if morton1.x < morton2.x, 0 if equal, 1 if morton1.x > morton2.x\n",
    "    \"\"\"\n",
    "    x_mask = 0x9249249249249249  # Mask for x bits\n",
    "    x1 = morton1 & x_mask\n",
    "    x2 = morton2 & x_mask\n",
    "    return -1 if x1 < x2 else (1 if x1 > x2 else 0)\n",
    "\n",
    "def compare_morton_y(morton1: int, morton2: int) -> int:\n",
    "    \"\"\"\n",
    "    Compare y-coordinates of two Morton codes.\n",
    "    Returns: -1 if morton1.y < morton2.y, 0 if equal, 1 if morton1.y > morton2.y\n",
    "    \"\"\"\n",
    "    y_mask = 0x2492492492492492  # Mask for y bits\n",
    "    y1 = morton1 & y_mask\n",
    "    y2 = morton2 & y_mask\n",
    "    return -1 if y1 < y2 else (1 if y1 > y2 else 0)\n",
    "\n",
    "def compare_morton_z(morton1: int, morton2: int) -> int:\n",
    "    \"\"\"\n",
    "    Compare z-coordinates of two Morton codes.\n",
    "    Returns: -1 if morton1.z < morton2.z, 0 if equal, 1 if morton1.z > morton2.z\n",
    "    \"\"\"\n",
    "    z_mask = 0x4924924924924924  # Mask for z bits\n",
    "    z1 = morton1 & z_mask\n",
    "    z2 = morton2 & z_mask\n",
    "    return -1 if z1 < z2 else (1 if z1 > z2 else 0)\n",
    "\n",
    "def is_less_than_or_equal(morton1: int, morton2: int) -> bool:\n",
    "    \"\"\"\n",
    "    Check if morton1 is less than or equal to morton2.\n",
    "    \"\"\"\n",
    "    x_mask = 0x9249249249249249  # Mask for x bits\n",
    "    y_mask = 0x2492492492492492  # Mask for y bits\n",
    "    z_mask = 0x4924924924924924  # Mask for z bits\n",
    "    x1 = morton1 & x_mask\n",
    "    x2 = morton2 & x_mask\n",
    "    y1 = morton1 & y_mask\n",
    "    y2 = morton2 & y_mask\n",
    "    z1 = morton1 & z_mask\n",
    "    z2 = morton2 & z_mask\n",
    "    \n",
    "    return x1 <= x2 and y1 <= y2 and z1 <= z2\n",
    "\n"
   ]
  },
  {
   "cell_type": "code",
   "execution_count": 7,
   "metadata": {},
   "outputs": [
    {
     "name": "stdout",
     "output_type": "stream",
     "text": [
      "True\n",
      "False\n"
     ]
    }
   ],
   "source": [
    "\n",
    "x, y, z = 5, 6, 7\n",
    "num_bits = 4\n",
    "morton1 = interleave_bits(x, y, z, num_bits)\n",
    "morton2 = interleave_bits(x+1, y, z, num_bits)\n",
    "\n",
    "print(is_less_than_or_equal(morton1, morton2))\n",
    "print(is_less_than_or_equal(morton2, morton1))"
   ]
  }
 ],
 "metadata": {
  "kernelspec": {
   "display_name": "base",
   "language": "python",
   "name": "python3"
  },
  "language_info": {
   "codemirror_mode": {
    "name": "ipython",
    "version": 3
   },
   "file_extension": ".py",
   "mimetype": "text/x-python",
   "name": "python",
   "nbconvert_exporter": "python",
   "pygments_lexer": "ipython3",
   "version": "3.12.9"
  }
 },
 "nbformat": 4,
 "nbformat_minor": 2
}

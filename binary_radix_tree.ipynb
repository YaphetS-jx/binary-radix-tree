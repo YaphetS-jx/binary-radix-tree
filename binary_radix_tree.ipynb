{
 "cells": [
  {
   "cell_type": "markdown",
   "metadata": {},
   "source": [
    "paper: Maximizing Parallelism in the Construction of BVHs, Octrees, and k-d Trees\n",
    "\n",
    "https://research.nvidia.com/sites/default/files/pubs/2012-06_Maximizing-Parallelism-in/karras2012hpg_paper.pdf"
   ]
  },
  {
   "cell_type": "code",
   "execution_count": 4,
   "metadata": {},
   "outputs": [],
   "source": [
    "import numpy as np\n",
    "\n",
    "def count_leading_zeros(x, bits=32):\n",
    "    return bits - x.bit_length() if x != 0 else bits\n",
    "\n",
    "def delta(morton_codes, i, j):\n",
    "    n = len(morton_codes)\n",
    "    if j < 0 or j >= n:\n",
    "        return -1  # Sentinel for out-of-range\n",
    "    if morton_codes[i] == morton_codes[j]:\n",
    "        # Same code ⇒ fallback on index difference\n",
    "        return count_leading_zeros(i ^ j) + 32\n",
    "    else:\n",
    "        return count_leading_zeros(morton_codes[i] ^ morton_codes[j])\n",
    "\n",
    "def determine_range(morton_codes, i):\n",
    "    n = len(morton_codes)\n",
    "    d = np.sign(delta(morton_codes, i, i+1) - delta(morton_codes, i, i-1))\n",
    "    delta_min = delta(morton_codes, i, i - d)\n",
    "\n",
    "    # Exponential search to find other end\n",
    "    lmax = 2\n",
    "    while delta(morton_codes, i, i + lmax * d) > delta_min:\n",
    "        lmax *= 2\n",
    "\n",
    "    # Binary search to refine\n",
    "    l = 0\n",
    "    t = lmax // 2\n",
    "    while t >= 1:\n",
    "        if delta(morton_codes, i, i + (l + t) * d) > delta_min:\n",
    "            l += t\n",
    "        t //= 2\n",
    "\n",
    "    j = i + l * d\n",
    "    return (min(i, j), max(i, j))\n",
    "\n",
    "def find_split(morton_codes, first, last):\n",
    "    delta_node = delta(morton_codes, first, last)\n",
    "    split = first\n",
    "    stride = last - first\n",
    "\n",
    "    while stride > 1:\n",
    "        stride = (stride + 1) // 2\n",
    "        mid = split + stride\n",
    "        if mid < last and delta(morton_codes, first, mid) > delta_node:\n",
    "            split = mid\n",
    "    return split\n",
    "\n",
    "class Node:\n",
    "    def __init__(self, index, range_tuple, split, left, right):\n",
    "        self.index = index\n",
    "        self.range = range_tuple\n",
    "        self.split = split\n",
    "        self.left = left\n",
    "        self.right = right\n",
    "\n",
    "def build_tree(morton_codes):\n",
    "    n = len(morton_codes)\n",
    "    nodes = [None] * (n - 1)\n",
    "\n",
    "    for i in range(n - 1):\n",
    "        first, last = determine_range(morton_codes, i)\n",
    "        split = find_split(morton_codes, first, last)\n",
    "        left = split if split == first else split + n\n",
    "        right = split + 1 if split + 1 == last else split + 1 + n\n",
    "        nodes[i] = Node(\n",
    "            index=i+n,\n",
    "            range_tuple=(first, last),\n",
    "            split=split,\n",
    "            left=left,\n",
    "            right=right\n",
    "        )\n",
    "    return nodes\n"
   ]
  },
  {
   "cell_type": "code",
   "execution_count": 7,
   "metadata": {},
   "outputs": [
    {
     "name": "stdout",
     "output_type": "stream",
     "text": [
      "LBVH Internal Nodes:\n",
      "Node 8 (0): range=(0, 7), split=3, left=11, right=12\n",
      "Node 9 (1): range=(0, 1), split=0, left=0, right=1\n",
      "Node 10 (2): range=(2, 3), split=2, left=2, right=3\n",
      "Node 11 (3): range=(0, 3), split=1, left=9, right=10\n",
      "Node 12 (4): range=(4, 7), split=4, left=4, right=13\n",
      "Node 13 (5): range=(5, 7), split=6, left=14, right=7\n",
      "Node 14 (6): range=(5, 6), split=5, left=5, right=6\n"
     ]
    }
   ],
   "source": [
    "# Morton codes from the paper’s example (already sorted)\n",
    "morton_codes = [1, 2, 4, 5, 19, 24, 25, 30]\n",
    "nodes = build_tree(morton_codes)\n",
    "\n",
    "# Print result clearly\n",
    "print(\"LBVH Internal Nodes:\")\n",
    "n = len(morton_codes)\n",
    "for node in nodes:\n",
    "    print(f\"Node {node.index} ({node.index - n}): range=({node.range[0]}, {node.range[1]}), \"\n",
    "          f\"split={node.split}, left={node.left}, right={node.right}\")"
   ]
  },
  {
   "cell_type": "code",
   "execution_count": 8,
   "metadata": {},
   "outputs": [
    {
     "name": "stdout",
     "output_type": "stream",
     "text": [
      "\n",
      "Points in region [4, 19]:\n",
      "Indices: [2, 3, 4]\n",
      "Morton codes: [4, 5, 19]\n"
     ]
    }
   ],
   "source": [
    "def traverse_tree_iterative(nodes, morton_codes, query_min, query_max):\n",
    "    results = []\n",
    "    n = len(morton_codes)    \n",
    "    stack = []  # Stack to store nodes to visit\n",
    "    \n",
    "    # Start with root node    \n",
    "    stack.append(n)\n",
    "    \n",
    "    while stack:\n",
    "        node_idx = stack.pop()        \n",
    "        \n",
    "        # Handle leaf node\n",
    "        if node_idx < n:\n",
    "            if query_min <= morton_codes[node_idx] <= query_max:\n",
    "                results.append(node_idx)\n",
    "        else:\n",
    "            node = nodes[node_idx - n]\n",
    "            if (query_min > morton_codes[node.range[1]] or query_max < morton_codes[node.range[0]]):\n",
    "                continue\n",
    "            else:\n",
    "                stack.append(node.left)\n",
    "                stack.append(node.right)\n",
    "    return sorted(results)\n",
    "\n",
    "# Example usage:\n",
    "query_min = 4\n",
    "query_max = 19\n",
    "result = traverse_tree_iterative(nodes, morton_codes, query_min, query_max)\n",
    "print(f\"\\nPoints in region [{query_min}, {query_max}]:\")\n",
    "print(f\"Indices: {result}\")\n",
    "print(f\"Morton codes: {[morton_codes[i] for i in result]}\")\n"
   ]
  }
 ],
 "metadata": {
  "kernelspec": {
   "display_name": "base",
   "language": "python",
   "name": "python3"
  },
  "language_info": {
   "codemirror_mode": {
    "name": "ipython",
    "version": 3
   },
   "file_extension": ".py",
   "mimetype": "text/x-python",
   "name": "python",
   "nbconvert_exporter": "python",
   "pygments_lexer": "ipython3",
   "version": "3.12.9"
  }
 },
 "nbformat": 4,
 "nbformat_minor": 2
}

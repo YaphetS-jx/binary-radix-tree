{
 "cells": [
  {
   "cell_type": "code",
   "execution_count": 1,
   "metadata": {},
   "outputs": [],
   "source": [
    "from binary_radix_tree import *\n",
    "from morton_code import *\n",
    "from check import *\n",
    "from morton_code import *\n",
    "from util import *\n",
    "import random"
   ]
  },
  {
   "cell_type": "code",
   "execution_count": 2,
   "metadata": {},
   "outputs": [
    {
     "name": "stdout",
     "output_type": "stream",
     "text": [
      "num of unique points: 100\n",
      "morton codes: [2, 3, 4, 4, 5, 5, 6, 7, 7, 8, 8, 9, 9, 9, 9, 10, 11, 11, 11, 12, 12, 12, 12, 12, 13, 13, 14, 14, 17, 17, 18, 20, 22, 23, 23, 24, 24, 24, 24, 24, 24, 25, 25, 27, 27, 27, 28, 28, 29, 29, 31, 32, 32, 32, 32, 33, 33, 34, 36, 36, 36, 37, 37, 37, 38, 38, 38, 39, 40, 41, 41, 43, 43, 43, 45, 46, 46, 48, 48, 48, 49, 50, 51, 52, 53, 54, 54, 55, 55, 55, 57, 57, 57, 60, 60, 61, 61, 61, 62, 63]\n",
      "offset: [0, 1, 2, 4, 6, 7, 9, 11, 15, 16, 19, 24, 26, 28, 30, 31, 32, 33, 35, 41, 43, 46, 48, 50, 51, 55, 57, 58, 61, 64, 67, 68, 69, 71, 74, 75, 77, 80, 81, 82, 83, 84, 85, 87, 90, 93, 95, 98, 99, 100]\n",
      "unique_mc: [2, 3, 4, 5, 6, 7, 8, 9, 10, 11, 12, 13, 14, 17, 18, 20, 22, 23, 24, 25, 27, 28, 29, 31, 32, 33, 34, 36, 37, 38, 39, 40, 41, 43, 45, 46, 48, 49, 50, 51, 52, 53, 54, 55, 57, 60, 61, 62, 63]\n",
      "ref_point: [0.9039285715598931, 0.5455902892055223, 0.8345950198860167], radius: 0.5\n",
      "Query and benchmark points match: False\n",
      "Number of query points: 30\n",
      "Number of benchmark points: 58\n",
      "Points in query but not in benchmark: set()\n",
      "Points in benchmark but not in query: {(0.9731157639793706, 0.3785343772083535, 0.552040631273227), (0.8616725363527911, 0.24865633392028563, 1.1902089084408116), (0.9347062577364272, 0.20425919942353643, 0.7161918007894148), (0.833744954639807, 0.703539925087371, 0.6116777657259501), (1.0725431144931572, 0.4582855226185861, 0.9984544408544423), (0.577352145256762, 0.7045718362149235, 1.0458243836556622), (1.0708573498886533, 0.23800463436899522, 0.6689777782962806), (1.2232107381488229, 0.7364712141640124, 0.6766994874229113), (0.9389300039271039, 0.13429111439336772, 1.115428670419102), (1.2095070307714877, 0.26697782204911336, 0.936654587712494), (1.2462153477886249, 0.5945191535334412, 0.6193815103321031), (0.6389494948660052, 0.6089702114381723, 1.1528392685496347), (0.6480353852465935, 0.6091310056669882, 1.171138648198097), (0.8294046642529949, 0.6185197523642461, 0.8617069003107772), (0.9961213802400968, 0.529114345099137, 0.9710783776136181), (1.2289417838111545, 0.905420013006128, 0.8596354002537465), (1.0297972194380702, 0.21863797480360336, 0.5053552881033624), (0.9872330636315043, 0.6539763177107326, 1.007823107152158), (0.9572130722067812, 0.33659454511262676, 1.0927458433801478), (0.7290758494598506, 0.6733645472933015, 0.9841652113659661), (0.9263669830081276, 0.8486957344143055, 1.166311110603914), (0.9053364910793232, 0.8461037132948555, 1.0922984677127334), (0.9951493566608947, 0.6498780576394535, 0.43810008391450406), (0.9895233506365952, 0.6399997598540929, 0.5569497437746462), (0.5710430933252845, 0.47267102631179414, 0.7846194242907534), (0.7412309083479308, 0.5516804211263913, 0.42768691898067934), (0.8763676264726689, 0.3146778807984779, 0.65543866529488), (0.8792702424845428, 0.36952708873888396, 1.157746832357232)}\n"
     ]
    }
   ],
   "source": [
    "num_points = 100\n",
    "num_bits_per_dim = 3\n",
    "# Set random seed for reproducibility\n",
    "random.seed(42)\n",
    "\n",
    "# Generate random 3D points between 0 and 1\n",
    "points = [(random.random(), random.random(), random.random()) for _ in range(num_points)]\n",
    "# Filter to get only unique points\n",
    "points = list(set(points))\n",
    "print(f\"num of unique points: {len(points)}\")\n",
    "\n",
    "# Convert points to Morton codes\n",
    "morton_codes = []\n",
    "for x, y, z in points:\n",
    "    morton_code = coordinate_to_morton_code_3d(x, y, z, num_bits_per_dim)\n",
    "    morton_codes.append(morton_code)\n",
    "\n",
    "# Sort Morton codes\n",
    "# Sort morton_codes and points together using morton_codes as the key\n",
    "morton_codes, points = zip(*sorted(zip(morton_codes, points)))\n",
    "morton_codes = list(morton_codes)\n",
    "points = list(points)\n",
    "print(f\"morton codes: {morton_codes}\")\n",
    "offset = range(len(morton_codes))\n",
    "\n",
    "# get unique points\n",
    "same = [1] + [0 if morton_codes[i] == morton_codes[i-1] else 1 for i in range(1, len(morton_codes))]\n",
    "offset = [offset[i] for i in range(len(morton_codes)) if same[i] == 1] + [len(morton_codes)]\n",
    "print(f\"offset: {offset}\")\n",
    "unique_mc = [morton_codes[i] for i in range(len(morton_codes)) if same[i] == 1]\n",
    "print(f\"unique_mc: {unique_mc}\")\n",
    "\n",
    "# create binary radix tree \n",
    "brt = BinaryRadixTree(unique_mc, num_bits_per_dim * 3)\n",
    "\n",
    "# test \n",
    "query_point = [random.random(), random.random(), random.random()]\n",
    "# radius = random.random()\n",
    "radius = 0.5\n",
    "print(f\"ref_point: {query_point}, radius: {radius}\")\n",
    "check = check_distance(query_point, radius, num_bits_per_dim)\n",
    "query_mc = brt.traverse_tree_distance(check)\n",
    "\n",
    "# print queried mc\n",
    "query_points = []\n",
    "for mc, shifts in query_mc.items():\n",
    "    for cell_shift in shifts:\n",
    "        # print(f\"mc idx: {mc}, cell_shift: {cell_shift}\")\n",
    "        for idx in range(offset[mc], offset[mc] + 1):\n",
    "            shifted_point = (points[idx][0] + cell_shift[0], \n",
    "                           points[idx][1] + cell_shift[1],\n",
    "                           points[idx][2] + cell_shift[2])\n",
    "            if check.check_point(shifted_point):\n",
    "                query_points.append(shifted_point)\n",
    "\n",
    "# check result \n",
    "bench_points = []\n",
    "for shift_z in range(check.cell_shift_z_min, check.cell_shift_z_max + 1):\n",
    "    for shift_y in range(check.cell_shift_y_min, check.cell_shift_y_max + 1):\n",
    "        for shift_x in range(check.cell_shift_x_min, check.cell_shift_x_max + 1):\n",
    "            for point in points:\n",
    "                shifted_point = (point[0] + shift_x, point[1] + shift_y, point[2] + shift_z)\n",
    "                if check.check_point(shifted_point):\n",
    "                    bench_points.append(shifted_point)\n",
    "\n",
    "# Sort both lists of points and compare them\n",
    "sorted_query_points = sorted(query_points)\n",
    "sorted_bench_points = sorted(bench_points)\n",
    "\n",
    "print(\"Query and benchmark points match:\", sorted_query_points == sorted_bench_points)\n",
    "\n",
    "if sorted_query_points != sorted_bench_points:\n",
    "    print(\"Number of query points:\", len(sorted_query_points))\n",
    "    print(\"Number of benchmark points:\", len(sorted_bench_points))\n",
    "    # Find points that are in one list but not the other\n",
    "    query_set = set(sorted_query_points)\n",
    "    bench_set = set(sorted_bench_points)\n",
    "    print(\"Points in query but not in benchmark:\", query_set - bench_set)\n",
    "    print(\"Points in benchmark but not in query:\", bench_set - query_set)\n",
    "\n"
   ]
  },
  {
   "cell_type": "code",
   "execution_count": null,
   "metadata": {},
   "outputs": [],
   "source": [
    "\n"
   ]
  }
 ],
 "metadata": {
  "kernelspec": {
   "display_name": "base",
   "language": "python",
   "name": "python3"
  },
  "language_info": {
   "codemirror_mode": {
    "name": "ipython",
    "version": 3
   },
   "file_extension": ".py",
   "mimetype": "text/x-python",
   "name": "python",
   "nbconvert_exporter": "python",
   "pygments_lexer": "ipython3",
   "version": "3.12.9"
  }
 },
 "nbformat": 4,
 "nbformat_minor": 2
}

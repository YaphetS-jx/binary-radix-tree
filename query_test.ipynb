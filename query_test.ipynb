{
 "cells": [
  {
   "cell_type": "code",
   "execution_count": 1,
   "metadata": {},
   "outputs": [],
   "source": [
    "from binary_radix_tree import *\n",
    "from morton_code import *\n",
    "from check import *\n",
    "from morton_code import *\n",
    "from util import *\n",
    "import random"
   ]
  },
  {
   "cell_type": "code",
   "execution_count": 23,
   "metadata": {},
   "outputs": [
    {
     "name": "stdout",
     "output_type": "stream",
     "text": [
      "num of unique points: 1000\n",
      "ref_point: [0.8640507204685769, 0.6509695631134773, 0.6871604042171144], radius: 0.1\n",
      "Query and benchmark points match: False\n",
      "Number of query points: 0\n",
      "Number of benchmark points: 5\n",
      "Points in query but not in benchmark: set()\n",
      "Points in benchmark but not in query: {(0.8008168219994952, 0.7007256063215421, 0.735352868782368), (0.8184268595406696, 0.6135732805354648, 0.6426991638298314), (0.833744954639807, 0.703539925087371, 0.6116777657259501), (0.8289589728944645, 0.7387746721294828, 0.6854144402775763), (0.891425925810437, 0.6126523227617628, 0.7192739612759671)}\n"
     ]
    }
   ],
   "source": [
    "num_points = 1000\n",
    "num_bits_per_dim = 3\n",
    "# Set random seed for reproducibility\n",
    "random.seed(42)\n",
    "\n",
    "# Generate random 3D points between 0 and 1\n",
    "points = [(random.random(), random.random(), random.random()) for _ in range(num_points)]\n",
    "# Filter to get only unique points\n",
    "points = list(set(points))\n",
    "print(f\"num of unique points: {len(points)}\")\n",
    "\n",
    "# Convert points to Morton codes\n",
    "morton_codes = []\n",
    "for x, y, z in points:\n",
    "    morton_code = coordinate_to_morton_code_3d(x, y, z, num_bits_per_dim)\n",
    "    morton_codes.append(morton_code)\n",
    "\n",
    "# Sort Morton codes\n",
    "# Sort morton_codes and points together using morton_codes as the key\n",
    "morton_codes, points = zip(*sorted(zip(morton_codes, points)))\n",
    "morton_codes = list(morton_codes)\n",
    "points = list(points)\n",
    "# print(f\"morton codes: {morton_codes}\")\n",
    "offset = range(len(morton_codes))\n",
    "\n",
    "# get unique points\n",
    "same = [1] + [0 if morton_codes[i] == morton_codes[i-1] else 1 for i in range(1, len(morton_codes))]\n",
    "offset = [offset[i] for i in range(len(morton_codes)) if same[i] == 1] + [len(morton_codes)]\n",
    "# print(f\"offset: {offset}\")\n",
    "unique_mc = [morton_codes[i] for i in range(len(morton_codes)) if same[i] == 1]\n",
    "# print(f\"unique_mc: {unique_mc}\")\n",
    "\n",
    "# create binary radix tree \n",
    "brt = BinaryRadixTree(unique_mc, num_bits_per_dim * 3)\n",
    "\n",
    "# test \n",
    "query_point = [random.random(), random.random(), random.random()]\n",
    "# radius = random.random()\n",
    "radius = 0.1\n",
    "print(f\"ref_point: {query_point}, radius: {radius}\")\n",
    "check = check_distance(query_point, radius, num_bits_per_dim)\n",
    "query_mc = brt.traverse_tree_distance(check)\n",
    "\n",
    "# print queried mc\n",
    "query_points = []\n",
    "for mc, shifts in query_mc.items():\n",
    "    for cell_shift in shifts:\n",
    "        # print(f\"mc idx: {mc}, cell_shift: {cell_shift}\")\n",
    "        for idx in range(offset[mc], offset[mc + 1]):\n",
    "            shifted_point = (points[idx][0] + cell_shift[0], \n",
    "                           points[idx][1] + cell_shift[1],\n",
    "                           points[idx][2] + cell_shift[2])\n",
    "            if check.check_point(shifted_point):\n",
    "                query_points.append(shifted_point)\n",
    "\n",
    "# check result \n",
    "bench_points = []\n",
    "for shift_z in range(check.cell_shift_z_min, check.cell_shift_z_max + 1):\n",
    "    for shift_y in range(check.cell_shift_y_min, check.cell_shift_y_max + 1):\n",
    "        for shift_x in range(check.cell_shift_x_min, check.cell_shift_x_max + 1):\n",
    "            for point in points:\n",
    "                shifted_point = (point[0] + shift_x, point[1] + shift_y, point[2] + shift_z)\n",
    "                if check.check_point(shifted_point):                    \n",
    "                    bench_points.append(shifted_point)\n",
    "\n",
    "# Sort both lists of points and compare them\n",
    "sorted_query_points = sorted(query_points)\n",
    "sorted_bench_points = sorted(bench_points)\n",
    "\n",
    "print(\"Query and benchmark points match:\", sorted_query_points == sorted_bench_points)\n",
    "\n",
    "if sorted_query_points != sorted_bench_points:\n",
    "    print(\"Number of query points:\", len(sorted_query_points))\n",
    "    print(\"Number of benchmark points:\", len(sorted_bench_points))\n",
    "    # Find points that are in one list but not the other\n",
    "    query_set = set(sorted_query_points)\n",
    "    bench_set = set(sorted_bench_points)\n",
    "    print(\"Points in query but not in benchmark:\", query_set - bench_set)\n",
    "    print(\"Points in benchmark but not in query:\", bench_set - query_set)\n",
    "\n"
   ]
  },
  {
   "cell_type": "code",
   "execution_count": null,
   "metadata": {},
   "outputs": [],
   "source": [
    "\n"
   ]
  }
 ],
 "metadata": {
  "kernelspec": {
   "display_name": "base",
   "language": "python",
   "name": "python3"
  },
  "language_info": {
   "codemirror_mode": {
    "name": "ipython",
    "version": 3
   },
   "file_extension": ".py",
   "mimetype": "text/x-python",
   "name": "python",
   "nbconvert_exporter": "python",
   "pygments_lexer": "ipython3",
   "version": "3.12.9"
  }
 },
 "nbformat": 4,
 "nbformat_minor": 2
}
